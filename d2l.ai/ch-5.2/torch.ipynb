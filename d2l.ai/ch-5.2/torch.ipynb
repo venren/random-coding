{
 "cells": [
  {
   "cell_type": "code",
   "execution_count": 2,
   "metadata": {},
   "outputs": [],
   "source": [
    "import torch\n",
    "import torch.nn as nn\n",
    "import torch.nn.functional as F\n",
    "import torch.optim as optim"
   ]
  },
  {
   "cell_type": "code",
   "execution_count": 11,
   "metadata": {},
   "outputs": [],
   "source": [
    "torch.manual_seed(42)\n",
    "x = torch.randn(1, 25)\n",
    "y = [a * 2 + torch.randn(1) * 0.05 for a in x]"
   ]
  },
  {
   "cell_type": "code",
   "execution_count": null,
   "metadata": {},
   "outputs": [],
   "source": [
    "\n",
    "class SimpleModel(nn.Module):\n",
    "    def __init__(self):\n",
    "        super(SimpleModel, self).__init__()\n",
    "        self.model = nn.Linear(1, 1)\n",
    "        self.optimizer = optim.SGD(self.parameters(), lr=0.01)\n",
    "        self.criterion = nn.MSELoss()\n",
    "\n",
    "    def dataSplit(self, x, y):\n",
    "        train = 0.75\n",
    "        test = 0.25\n",
    "        train_size = int(len(x) * train)\n",
    "        test_size = len(x) - train_size  # Fixed calculation\n",
    "        return x[:train_size], y[:train_size], x[train_size:], y[train_size:] \n",
    "\n",
    "    def train_custom(self, x, y):\n",
    "        x_train, y_train, x_test, y_test = self.dataSplit(x, y)\n",
    "        for epoch in range(5):\n",
    "            self.optimizer.zero_grad()\n",
    "            y_pred = self.model(x_train)\n",
    "            loss = self.criterion(y_pred, y_train)\n",
    "            loss.backward()\n",
    "            self.optimizer.step()\n",
    "        return x_test, y_test\n",
    "    \n",
    "    def predict(self, x):\n",
    "        self.eval()\n",
    "        with torch.no_grad():\n",
    "            return self(x)\n",
    "    \n",
    "    def forward(self, x):\n",
    "        return self.model(x)\n",
    "    \n"
   ]
  }
 ],
 "metadata": {
  "kernelspec": {
   "display_name": ".venv",
   "language": "python",
   "name": "python3"
  },
  "language_info": {
   "codemirror_mode": {
    "name": "ipython",
    "version": 3
   },
   "file_extension": ".py",
   "mimetype": "text/x-python",
   "name": "python",
   "nbconvert_exporter": "python",
   "pygments_lexer": "ipython3",
   "version": "3.11.8"
  }
 },
 "nbformat": 4,
 "nbformat_minor": 2
}
