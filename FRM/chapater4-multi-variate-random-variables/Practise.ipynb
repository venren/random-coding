{
 "cells": [
  {
   "cell_type": "code",
   "execution_count": 64,
   "id": "9e089d5c-cd37-4b58-b041-48fc9006d478",
   "metadata": {},
   "outputs": [],
   "source": [
    "import numpy as np"
   ]
  },
  {
   "cell_type": "code",
   "execution_count": 63,
   "id": "ab927782-4dc8-4a48-9a06-61797348aec9",
   "metadata": {},
   "outputs": [
    {
     "name": "stdout",
     "output_type": "stream",
     "text": [
      "[15.998   1.2538]\n",
      "[[-3.35    0.      3.418  15.93  ]\n",
      " [-0.067   0.      0.6836  0.6372]]\n"
     ]
    }
   ],
   "source": [
    "import numpy as np\n",
    "\n",
    "# Define Probability and Actual Values Matrices\n",
    "probability_matrix = np.array([\n",
    "    [1.97, 3.90, 0.8, 0.1],\n",
    "    [3.93, 23.5, 12.6, 2.99],\n",
    "    [0.8, 12.7, 14.2, 6.68],\n",
    "    [0, 3.09, 6.58, 6.16]\n",
    "])\n",
    "\n",
    "actual_values = np.array([\n",
    "    [-50, 0, 10, 100],\n",
    "    [-1, 0, 2, 4]\n",
    "])\n",
    "\n",
    "def calc_marginal_probability(prob_matrix: np.ndarray) -> np.ndarray:\n",
    "    \"\"\"Computes the marginal probability table by adding row and column sums.\"\"\"\n",
    "    row_sum = prob_matrix.sum(axis=1, keepdims=True)  # Shape (4,1)\n",
    "    col_sum = prob_matrix.sum(axis=0, keepdims=True)  # Shape (1,4)\n",
    "    total_sum = np.array([[prob_matrix.sum()]])       # Shape (1,1)\n",
    "\n",
    "    # Append row sums as a new column, column sums as a new row, and total sum\n",
    "    return np.vstack((np.hstack((prob_matrix, row_sum)), np.hstack((col_sum, total_sum))))\n",
    "\n",
    "def is_return_independent(prob_matrix: np.ndarray) -> bool:\n",
    "    \"\"\"Checks if the first probability value equals the first marginal sum value.\"\"\"\n",
    "    marginal_prob = calc_marginal_probability(prob_matrix)\n",
    "    return marginal_prob[0, 0] == marginal_prob[0, -1]  # Last column contains row sums\n",
    "\n",
    "def calc_covariance(actual_values: np.ndarray, prob_matrix: np.ndarray) -> np.ndarray:\n",
    "    \"\"\"Calculates the covariance matrix using column sums.\"\"\"\n",
    "    return actual_values * prob_matrix.sum(axis=0, keepdims=True)\n",
    "\n",
    "# Compute Expectation Matrix\n",
    "expectation_matrix = calc_covariance(actual_values, probability_matrix) / 100\n",
    "print(np.sum(expectation_matrix, axis=1))\n",
    "print(expectation_matrix)\n"
   ]
  },
  {
   "cell_type": "code",
   "execution_count": 152,
   "id": "79072fb3-3214-4703-b197-4bf7dc1c1311",
   "metadata": {},
   "outputs": [
    {
     "name": "stdout",
     "output_type": "stream",
     "text": [
      "\n",
      " ***  Maginal Probablity Matrix *** \n",
      " [[  1.97   3.9    0.8    0.1    6.77]\n",
      " [  3.93  23.5   12.6    2.99  43.02]\n",
      " [  0.8   12.7   14.2    6.68  34.38]\n",
      " [  0.     3.09   6.58   6.16  15.83]\n",
      " [  6.7   43.19  34.18  15.93 100.  ]]\n",
      "\n",
      " *** is probablity matrix independent *** \n",
      " False\n",
      "23.3028946\n"
     ]
    }
   ],
   "source": [
    "probablity_matrix = np.array([[1.97, 3.90, 0.8, 0.1],\n",
    "                              [3.93, 23.5, 12.6, 2.99],\n",
    "                              [0.8, 12.7,14.2,6.68],\n",
    "                              [0,3.09,6.58,6.16]])\n",
    "\n",
    "actual_x_small_firm = np.array([[-1, 0, 2,4]])\n",
    "actual_y_big_firm = np.array([[-50, 0, 10,100]])\n",
    "\n",
    "def calc_marginal_probability(prob_matrix: np.ndarray):\n",
    "    row_sum = prob_matrix.sum(axis=1, keepdims=True)\n",
    "    col_sum = prob_matrix.sum(axis=0, keepdims=True)\n",
    "    total_sum = np.array([[prob_matrix.sum()]])\n",
    "    return np.vstack((np.hstack((prob_matrix, row_sum)), np.hstack((col_sum, total_sum))))\n",
    "    \n",
    "def is_probablity_matrix_independent(prob_matrix: np.ndarray):\n",
    "    marginal_probablity = calc_marginal_probability(probablity_matrix)\n",
    "    row_prob = marginal_probablity[:-1,-1].reshape(-1,1)\n",
    "    col_prob = marginal_probablity[-1:,:-1].reshape(1,-1)\n",
    "    expected_joint = row_prob @ col_prob\n",
    "    return np.allclose(prob_matrix, expected_joint, atol=1e-6)\n",
    "\n",
    "def covariance_profits(actual_x_small_firm,actual_y_big_firm,prob_matrix):\n",
    "    '''Formula for covariance = E[XY] - E[X]E[Y]'''\n",
    "    prob_matrix = prob_matrix/100\n",
    "    marginal_probablity = calc_marginal_probability(prob_matrix)\n",
    "    EX = actual_y_big_firm * marginal_probablity[:-1,-1]\n",
    "    EY = actual_x_small_firm * marginal_probablity[-1:,:-1]\n",
    "    EXEY = actual_y_big_firm.reshape(-1,4) * actual_x_small_firm.reshape(4,-1)\n",
    "    cov = (np.sum(EXEY.T * prob_matrix) - (np.sum(EX) * np.sum(EY)))\n",
    "    corr = cov/()\n",
    "    \n",
    "\n",
    "\n",
    "##Function calls    \n",
    "marginal_prob = calc_marginal_probability(probablity_matrix)\n",
    "print(f\"\\n ***  Maginal Probablity Matrix *** \\n\",marginal_prob)\n",
    "print(f\"\\n *** is probablity matrix independent *** \\n\", is_probablity_matrix_independent(probablity_matrix))\n",
    "cov = covariance_profits(actual_x_small_firm, actual_y_big_firm,probablity_matrix)\n",
    "print(cov)"
   ]
  }
 ],
 "metadata": {
  "kernelspec": {
   "display_name": "Python 3 (ipykernel)",
   "language": "python",
   "name": "python3"
  },
  "language_info": {
   "codemirror_mode": {
    "name": "ipython",
    "version": 3
   },
   "file_extension": ".py",
   "mimetype": "text/x-python",
   "name": "python",
   "nbconvert_exporter": "python",
   "pygments_lexer": "ipython3",
   "version": "3.11.8"
  }
 },
 "nbformat": 4,
 "nbformat_minor": 5
}
