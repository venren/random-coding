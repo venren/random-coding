{
 "cells": [
  {
   "cell_type": "code",
   "execution_count": 1,
   "id": "1e7738f9-036e-4baa-b379-7021e41478ae",
   "metadata": {},
   "outputs": [],
   "source": [
    "import pandas as pd\n",
    "import numpy as np"
   ]
  },
  {
   "cell_type": "code",
   "execution_count": 2,
   "id": "14ee3ab9-96f2-48bb-945b-a9036349a8fe",
   "metadata": {},
   "outputs": [],
   "source": [
    "X1 = np.array([1200, 1500, 1300, 1800, 2200, 1100, 1600, 2000, 1400, 1750, \n",
    "               1850, 1350, 1250, 1450, 2500, 1550, 2100, 1240, 1700, 1900])\n",
    "\n",
    "X2 = np.array([3, 4, 3, 5, 6, 2, 4, 5, 3, 4, \n",
    "               4, 3, 3, 3, 6, 4, 5, 2, 4, 5])\n",
    "\n",
    "Y = np.array([250000, 320000, 275000, 400000, 500000, 220000, 350000, 450000, \n",
    "              300000, 380000, 410000, 290000, 270000, 310000, 600000, 340000, \n",
    "              480000, 260000, 370000, 430000])"
   ]
  },
  {
   "cell_type": "code",
   "execution_count": 3,
   "id": "744c1d45-5efb-4052-89d0-d97456417c70",
   "metadata": {},
   "outputs": [
    {
     "data": {
      "text/plain": [
       "(20, 3)"
      ]
     },
     "execution_count": 3,
     "metadata": {},
     "output_type": "execute_result"
    }
   ],
   "source": [
    "X = np.hstack([np.ones(X1.size).reshape(-1,1), X1.reshape(-1,1), X2.reshape(-1,1)])\n",
    "X.shape"
   ]
  },
  {
   "cell_type": "code",
   "execution_count": 4,
   "id": "f9911915-9749-4688-a82e-2e519d6ee704",
   "metadata": {},
   "outputs": [],
   "source": [
    "w1 = 100\n",
    "w2 = 200\n",
    "w3 = 300\n",
    "W = np.array([[w1],[w2],[w3]])\n",
    "Y_Pred = X @ W"
   ]
  },
  {
   "cell_type": "code",
   "execution_count": null,
   "id": "ad8bba77-c27b-4677-9244-f253c53782bb",
   "metadata": {},
   "outputs": [
    {
     "data": {
      "text/plain": [
       "array([[241000.],\n",
       "       [301300.],\n",
       "       [261000.],\n",
       "       [361600.],\n",
       "       [441900.],\n",
       "       [220700.],\n",
       "       [321300.],\n",
       "       [401600.],\n",
       "       [281000.],\n",
       "       [351300.],\n",
       "       [371300.],\n",
       "       [271000.],\n",
       "       [251000.],\n",
       "       [291000.],\n",
       "       [501900.],\n",
       "       [311300.],\n",
       "       [421600.],\n",
       "       [248700.],\n",
       "       [341300.],\n",
       "       [381600.]])"
      ]
     },
     "execution_count": 5,
     "metadata": {},
     "output_type": "execute_result"
    },
    {
     "ename": "",
     "evalue": "",
     "output_type": "error",
     "traceback": [
      "\u001b[1;31mThe Kernel crashed while executing code in the current cell or a previous cell. \n",
      "\u001b[1;31mPlease review the code in the cell(s) to identify a possible cause of the failure. \n",
      "\u001b[1;31mClick <a href='https://aka.ms/vscodeJupyterKernelCrash'>here</a> for more info. \n",
      "\u001b[1;31mView Jupyter <a href='command:jupyter.viewOutput'>log</a> for further details."
     ]
    }
   ],
   "source": [
    "Y_Pred"
   ]
  }
 ],
 "metadata": {
  "kernelspec": {
   "display_name": ".venv",
   "language": "python",
   "name": "python3"
  },
  "language_info": {
   "codemirror_mode": {
    "name": "ipython",
    "version": 3
   },
   "file_extension": ".py",
   "mimetype": "text/x-python",
   "name": "python",
   "nbconvert_exporter": "python",
   "pygments_lexer": "ipython3",
   "version": "3.11.8"
  }
 },
 "nbformat": 4,
 "nbformat_minor": 5
}
