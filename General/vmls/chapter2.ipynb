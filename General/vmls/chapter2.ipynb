{
 "cells": [
  {
   "cell_type": "code",
   "execution_count": 2,
   "id": "2531bbec",
   "metadata": {},
   "outputs": [],
   "source": [
    "import numpy as np\n",
    "import random\n",
    "import sklearn"
   ]
  },
  {
   "cell_type": "markdown",
   "id": "48448640",
   "metadata": {},
   "source": [
    "Linear or Not?\n",
    "Determine whether each of the following scalar-valued functions of n-vectors is linear. If it is a linear function, give its inner product representation, i.e., an n-vector a for which f(x) = a<sup>T</sup>x for all x. If it is not linear, give specific x, y, α, and β for which superposition fails, i.e.,\n",
    "\n",
    "f(αx + βy) ≠ αf(x) + βf(y).\n",
    "\n",
    "(a) The spread of values of the vector, defined as f(x) = max<sub>k</sub> x<sub>k</sub> − min<sub>k</sub> x<sub>k</sub>.\n",
    "\n",
    "(b) The difference of the last element and the first, f(x) = x<sub>n</sub> − x<sub>1</sub>.\n",
    "\n",
    "(c) The median of an n-vector, where we will assume n = 2k + 1 is odd. The median of the vector x is defined as the (k + 1)st largest number among the entries of x. For example, the median of (−7.1, 3.2, −1.5) is −1.5.\n",
    "\n",
    "(d) The average of the entries with odd indices, minus the average of the entries with even indices. You can assume that n = 2k is even.\n",
    "\n",
    "(e) Vector extrapolation, defined as x<sub>n</sub> + (x<sub>n</sub> − x<sub>n-1</sub>), for n ≥ 2. (This is a simple prediction.)\n"
   ]
  },
  {
   "cell_type": "code",
   "execution_count": 3,
   "id": "ca0de77f",
   "metadata": {},
   "outputs": [
    {
     "name": "stdout",
     "output_type": "stream",
     "text": [
      "0.5033009577015453\n",
      "2.344789254383703\n"
     ]
    }
   ],
   "source": [
    "##f(ax + by) = a * f(x) + b * f(y)\n",
    "def fun(x : list):\n",
    "    return max(x) - min(x)\n",
    "a = random.random()\n",
    "b = random.random()\n",
    "x = np.array([2,0])\n",
    "y = np.array([0,2])\n",
    "result = (a * x)+ (b * y)\n",
    "print(fun(result))\n",
    "\n",
    "print(a* fun(x) + b*fun(y))"
   ]
  },
  {
   "cell_type": "code",
   "execution_count": 4,
   "id": "2f304bcb",
   "metadata": {},
   "outputs": [
    {
     "name": "stdout",
     "output_type": "stream",
     "text": [
      "[2 3]\n",
      "2\n",
      "f(a*x + b*y) = 1\n",
      "a*f(x) + b*f(y) = 5\n"
     ]
    }
   ],
   "source": [
    "import numpy as np\n",
    "\n",
    "def fun(x):\n",
    "    return max(x) - min(x)\n",
    "\n",
    "a = 2\n",
    "b = 3\n",
    "x = np.array([1, 0])\n",
    "y = np.array([0, 1])\n",
    "\n",
    "result = (a * x) + (b * y)\n",
    "print(result)\n",
    "print(a* fun(x))\n",
    "print(f\"f(a*x + b*y) = {fun(result)}\")\n",
    "print(f\"a*f(x) + b*f(y) = {a * fun(x) + b * fun(y)}\")"
   ]
  },
  {
   "cell_type": "code",
   "execution_count": 5,
   "id": "238fac50",
   "metadata": {},
   "outputs": [
    {
     "name": "stdout",
     "output_type": "stream",
     "text": [
      "Coefficients (a1, a2, a3): [0.33333333 0.44444444 0.38888889]\n",
      "Intercept (b): 18.33333333333333\n",
      "Maximum P_same: 57.14\n"
     ]
    }
   ],
   "source": [
    "P = np.array([\n",
    "    [10,10,10],\n",
    "    [100,10,10],\n",
    "    [10,100,10],\n",
    "    [10,10,100]\n",
    "])\n",
    "T = np.array([30,60,70,65])\n",
    "\n",
    "\n",
    "model = sklearn.linear_model.LinearRegression().fit(P, T)\n",
    "aT = model.coef_  # [a1, a2, a3]\n",
    "b = model.intercept_\n",
    "\n",
    "T_max = 85\n",
    "\n",
    "\n",
    "sum_aT = np.sum(aT)\n",
    "\n",
    "\n",
    "P_same = (T_max - b) / sum_aT\n",
    "\n",
    "print(f\"Coefficients (a1, a2, a3): {aT}\")\n",
    "print(f\"Intercept (b): {b}\")\n",
    "print(f\"Maximum P_same: {P_same:.2f}\")\n"
   ]
  },
  {
   "cell_type": "markdown",
   "id": "ec4475af",
   "metadata": {},
   "source": [
    "Total score from course record. The record for each student in a class is given as a 10-\n",
    "vector r, where r1, . . . , r8 are the grades for the 8 homework assignments, each on a 0–10\n",
    "scale, r9 is the midterm exam grade on a 0–120 scale, and r10 is final exam score on a\n",
    "0–160 scale. The student’s total course score s, on a 0–100 scale, is based 25% on the\n",
    "homework, 35% on the midterm exam, and 40% on the final exam. Express s in the form\n",
    "s = w\n",
    "T\n",
    "r. (That is, determine the 10-vector w.) You can give the coefficients of w to 4\n",
    "digits after the decimal point."
   ]
  },
  {
   "cell_type": "code",
   "execution_count": 13,
   "id": "382ef706",
   "metadata": {},
   "outputs": [
    {
     "name": "stdout",
     "output_type": "stream",
     "text": [
      "2.59375\n",
      "[0.03125    0.03125    0.03125    0.03125    0.03125    0.03125\n",
      " 0.03125    0.03125    0.00291667 0.0025    ]\n"
     ]
    }
   ],
   "source": [
    "marks = np.array([8,9,1,9,9,10,10,9,90,120])\n",
    "classTestWeight = 0.25/8\n",
    "midTermWeight = 0.35/120\n",
    "endTestWeight = 0.4/160\n",
    "#np.full(8,classTestWeight)\n",
    "weights = np.concatenate((np.full(8,classTestWeight),  np.array([midTermWeight]) , np.array([endTestWeight])))\n",
    "result = np.matmul(weights.T, marks)\n",
    "print(result)\n",
    "print(weights.T)"
   ]
  },
  {
   "cell_type": "code",
   "execution_count": null,
   "id": "92197677",
   "metadata": {},
   "outputs": [],
   "source": []
  }
 ],
 "metadata": {
  "kernelspec": {
   "display_name": ".venv",
   "language": "python",
   "name": "python3"
  },
  "language_info": {
   "codemirror_mode": {
    "name": "ipython",
    "version": 3
   },
   "file_extension": ".py",
   "mimetype": "text/x-python",
   "name": "python",
   "nbconvert_exporter": "python",
   "pygments_lexer": "ipython3",
   "version": "3.11.8"
  }
 },
 "nbformat": 4,
 "nbformat_minor": 5
}
